{
 "cells": [
  {
   "cell_type": "markdown",
   "metadata": {},
   "source": [
    "# Challenge StartUp.ML\n",
    "# Airline On-Time Arrivals - Binary classification model\n",
    "## Pierre Megret"
   ]
  },
  {
   "cell_type": "markdown",
   "metadata": {},
   "source": [
    "### Main Goal\n",
    "\n",
    "To use the US Dept. of Transportation on-time arrival data for non-stop domestic flights by major air carriers to predict arrival delays with a binary classification model."
   ]
  },
  {
   "cell_type": "code",
   "execution_count": 1,
   "metadata": {
    "collapsed": true
   },
   "outputs": [],
   "source": [
    "import pandas as pd\n",
    "import numpy as np\n",
    "from sklearn.ensemble import RandomForestClassifier\n",
    "from sklearn import grid_search\n",
    "from sklearn.externals import joblib\n",
    "import warnings\n",
    "warnings.filterwarnings(\"ignore\") # In Pandas, convert_objects is deprecated."
   ]
  },
  {
   "cell_type": "markdown",
   "metadata": {},
   "source": [
    "### Importing the data set"
   ]
  },
  {
   "cell_type": "code",
   "execution_count": 2,
   "metadata": {
    "collapsed": true
   },
   "outputs": [],
   "source": [
    "data = pd.read_csv('Jan-2016-Class.csv')"
   ]
  },
  {
   "cell_type": "code",
   "execution_count": 3,
   "metadata": {
    "collapsed": false
   },
   "outputs": [
    {
     "data": {
      "text/html": [
       "<div>\n",
       "<table border=\"1\" class=\"dataframe\">\n",
       "  <thead>\n",
       "    <tr style=\"text-align: right;\">\n",
       "      <th></th>\n",
       "      <th>DAY_OF_WEEK</th>\n",
       "      <th>UNIQUE_CARRIER</th>\n",
       "      <th>FL_NUM</th>\n",
       "      <th>ORIGIN_AIRPORT_ID</th>\n",
       "      <th>ORIGIN_CITY_MARKET_ID</th>\n",
       "      <th>DEST_AIRPORT_ID</th>\n",
       "      <th>DEST_CITY_MARKET_ID</th>\n",
       "      <th>CRS_DEP_TIME</th>\n",
       "      <th>CRS_ARR_TIME</th>\n",
       "      <th>ARR_DEL15</th>\n",
       "      <th>DIVERTED</th>\n",
       "      <th>AIR_TIME</th>\n",
       "      <th>DISTANCE</th>\n",
       "      <th>Unnamed: 13</th>\n",
       "    </tr>\n",
       "  </thead>\n",
       "  <tbody>\n",
       "    <tr>\n",
       "      <th>0</th>\n",
       "      <td>1</td>\n",
       "      <td>F9</td>\n",
       "      <td>141</td>\n",
       "      <td>11292</td>\n",
       "      <td>30325</td>\n",
       "      <td>14747</td>\n",
       "      <td>30559</td>\n",
       "      <td>1645</td>\n",
       "      <td>1845</td>\n",
       "      <td>0.0</td>\n",
       "      <td>0.0</td>\n",
       "      <td>140.0</td>\n",
       "      <td>1024.0</td>\n",
       "      <td>NaN</td>\n",
       "    </tr>\n",
       "    <tr>\n",
       "      <th>1</th>\n",
       "      <td>1</td>\n",
       "      <td>F9</td>\n",
       "      <td>142</td>\n",
       "      <td>14747</td>\n",
       "      <td>30559</td>\n",
       "      <td>11292</td>\n",
       "      <td>30325</td>\n",
       "      <td>1930</td>\n",
       "      <td>2310</td>\n",
       "      <td>0.0</td>\n",
       "      <td>0.0</td>\n",
       "      <td>131.0</td>\n",
       "      <td>1024.0</td>\n",
       "      <td>NaN</td>\n",
       "    </tr>\n",
       "    <tr>\n",
       "      <th>2</th>\n",
       "      <td>1</td>\n",
       "      <td>F9</td>\n",
       "      <td>402</td>\n",
       "      <td>12892</td>\n",
       "      <td>32575</td>\n",
       "      <td>11292</td>\n",
       "      <td>30325</td>\n",
       "      <td>1810</td>\n",
       "      <td>2126</td>\n",
       "      <td>0.0</td>\n",
       "      <td>0.0</td>\n",
       "      <td>113.0</td>\n",
       "      <td>862.0</td>\n",
       "      <td>NaN</td>\n",
       "    </tr>\n",
       "    <tr>\n",
       "      <th>3</th>\n",
       "      <td>1</td>\n",
       "      <td>F9</td>\n",
       "      <td>612</td>\n",
       "      <td>11292</td>\n",
       "      <td>30325</td>\n",
       "      <td>13303</td>\n",
       "      <td>32467</td>\n",
       "      <td>2255</td>\n",
       "      <td>433</td>\n",
       "      <td>0.0</td>\n",
       "      <td>0.0</td>\n",
       "      <td>201.0</td>\n",
       "      <td>1709.0</td>\n",
       "      <td>NaN</td>\n",
       "    </tr>\n",
       "    <tr>\n",
       "      <th>4</th>\n",
       "      <td>1</td>\n",
       "      <td>F9</td>\n",
       "      <td>1152</td>\n",
       "      <td>10397</td>\n",
       "      <td>30397</td>\n",
       "      <td>13204</td>\n",
       "      <td>31454</td>\n",
       "      <td>840</td>\n",
       "      <td>1005</td>\n",
       "      <td>0.0</td>\n",
       "      <td>0.0</td>\n",
       "      <td>62.0</td>\n",
       "      <td>404.0</td>\n",
       "      <td>NaN</td>\n",
       "    </tr>\n",
       "  </tbody>\n",
       "</table>\n",
       "</div>"
      ],
      "text/plain": [
       "   DAY_OF_WEEK UNIQUE_CARRIER  FL_NUM  ORIGIN_AIRPORT_ID  \\\n",
       "0            1             F9     141              11292   \n",
       "1            1             F9     142              14747   \n",
       "2            1             F9     402              12892   \n",
       "3            1             F9     612              11292   \n",
       "4            1             F9    1152              10397   \n",
       "\n",
       "   ORIGIN_CITY_MARKET_ID  DEST_AIRPORT_ID  DEST_CITY_MARKET_ID  CRS_DEP_TIME  \\\n",
       "0                  30325            14747                30559          1645   \n",
       "1                  30559            11292                30325          1930   \n",
       "2                  32575            11292                30325          1810   \n",
       "3                  30325            13303                32467          2255   \n",
       "4                  30397            13204                31454           840   \n",
       "\n",
       "   CRS_ARR_TIME  ARR_DEL15  DIVERTED  AIR_TIME  DISTANCE  Unnamed: 13  \n",
       "0          1845        0.0       0.0     140.0    1024.0          NaN  \n",
       "1          2310        0.0       0.0     131.0    1024.0          NaN  \n",
       "2          2126        0.0       0.0     113.0     862.0          NaN  \n",
       "3           433        0.0       0.0     201.0    1709.0          NaN  \n",
       "4          1005        0.0       0.0      62.0     404.0          NaN  "
      ]
     },
     "execution_count": 3,
     "metadata": {},
     "output_type": "execute_result"
    }
   ],
   "source": [
    "data.head()"
   ]
  },
  {
   "cell_type": "markdown",
   "metadata": {},
   "source": [
    "##### The data set\n",
    "The data set corresponds of the month of January 2016, so that I could test my model on all the year.\n",
    "\n",
    "To predict whether a flight will be delayed or not, here's the features I chose from the USDoT:\n",
    "1. Day of Week: there might be more delayed on the weekend, if more people take the planes;\n",
    "2. Airline Id: some airlines have probably more delays than others;\n",
    "3. Flight Number: some flights might be more likely to have delays than others;\n",
    "4. Origin and Destination Airport: some airport might be more crowded than others;\n",
    "5. Origin and Destination Cities: some cities might have poor airport(s);\n",
    "6. CRS departure and arrival time: there might be more delays in the morning than in the afternoon;\n",
    "7. ARR_DEL15: a dummy variable for delay, 1 if the flight has been delayed, 0 otherwise;\n",
    "8. DIVERTED: a dummy variable to know whether a flight has been diverted (1) or no (0);\n",
    "9. Air Time: time, in minutes, that the plane has been in the air;\n",
    "10. Distance: the distance between the two airports, in miles."
   ]
  },
  {
   "cell_type": "markdown",
   "metadata": {},
   "source": [
    "### Data Wrangling"
   ]
  },
  {
   "cell_type": "code",
   "execution_count": 4,
   "metadata": {
    "collapsed": false
   },
   "outputs": [
    {
     "name": "stdout",
     "output_type": "stream",
     "text": [
      "(445827, 14)\n",
      "DAY_OF_WEEK                int64\n",
      "UNIQUE_CARRIER            object\n",
      "FL_NUM                     int64\n",
      "ORIGIN_AIRPORT_ID          int64\n",
      "ORIGIN_CITY_MARKET_ID      int64\n",
      "DEST_AIRPORT_ID            int64\n",
      "DEST_CITY_MARKET_ID        int64\n",
      "CRS_DEP_TIME               int64\n",
      "CRS_ARR_TIME               int64\n",
      "ARR_DEL15                float64\n",
      "DIVERTED                 float64\n",
      "AIR_TIME                 float64\n",
      "DISTANCE                 float64\n",
      "Unnamed: 13              float64\n",
      "dtype: object\n"
     ]
    }
   ],
   "source": [
    "print data.shape\n",
    "print data.dtypes"
   ]
  },
  {
   "cell_type": "code",
   "execution_count": 5,
   "metadata": {
    "collapsed": false
   },
   "outputs": [
    {
     "data": {
      "text/plain": [
       "DAY_OF_WEEK                  0\n",
       "UNIQUE_CARRIER               0\n",
       "FL_NUM                       0\n",
       "ORIGIN_AIRPORT_ID            0\n",
       "ORIGIN_CITY_MARKET_ID        0\n",
       "DEST_AIRPORT_ID              0\n",
       "DEST_CITY_MARKET_ID          0\n",
       "CRS_DEP_TIME                 0\n",
       "CRS_ARR_TIME                 0\n",
       "ARR_DEL15                12529\n",
       "DIVERTED                     0\n",
       "AIR_TIME                 12529\n",
       "DISTANCE                     0\n",
       "dtype: int64"
      ]
     },
     "execution_count": 5,
     "metadata": {},
     "output_type": "execute_result"
    }
   ],
   "source": [
    "data = data.drop('Unnamed: 13',axis = 1) # Useless column\n",
    "data.isnull().sum()"
   ]
  },
  {
   "cell_type": "code",
   "execution_count": 6,
   "metadata": {
    "collapsed": true
   },
   "outputs": [],
   "source": [
    "for i in ['ARR_DEL15','AIR_TIME']:\n",
    "    data = data.dropna(subset=[i]) # Getting rid of missing values, they are only 2% of all rows."
   ]
  },
  {
   "cell_type": "code",
   "execution_count": 7,
   "metadata": {
    "collapsed": false
   },
   "outputs": [],
   "source": [
    "hour_func = lambda x: int(str(x)[:2]) if len(str(x)) == 6 else int(str(x)[0])\n",
    "data['DEP_HOUR'] = data['CRS_DEP_TIME'].apply(hour_func) # Taking only the hours as indicator of time, converting into integers\n",
    "data['ARR_HOUR'] = data['CRS_ARR_TIME'].apply(hour_func)"
   ]
  },
  {
   "cell_type": "code",
   "execution_count": 8,
   "metadata": {
    "collapsed": false
   },
   "outputs": [
    {
     "data": {
      "text/plain": [
       "0    1\n",
       "1    2\n",
       "2    2\n",
       "3    4\n",
       "4    1\n",
       "Name: ARR_HOUR, dtype: int64"
      ]
     },
     "execution_count": 8,
     "metadata": {},
     "output_type": "execute_result"
    }
   ],
   "source": [
    "data['ARR_HOUR'].head()"
   ]
  },
  {
   "cell_type": "code",
   "execution_count": 9,
   "metadata": {
    "collapsed": false
   },
   "outputs": [
    {
     "name": "stdout",
     "output_type": "stream",
     "text": [
      "12\n",
      "7\n",
      "6654\n"
     ]
    }
   ],
   "source": [
    "print len(set(data['UNIQUE_CARRIER'])) # How many unique Airline Id?\n",
    "print len(set(data['DAY_OF_WEEK']))    # Is there actually 7 days in this data set?\n",
    "print len(set(data['FL_NUM']))         # How many different flight number exist in the data?"
   ]
  },
  {
   "cell_type": "code",
   "execution_count": 10,
   "metadata": {
    "collapsed": false
   },
   "outputs": [
    {
     "name": "stdout",
     "output_type": "stream",
     "text": [
      "True\n",
      "True\n"
     ]
    }
   ],
   "source": [
    "print set(data['ORIGIN_AIRPORT_ID']) == set(data['DEST_AIRPORT_ID'])\n",
    "print set(data['ORIGIN_CITY_MARKET_ID']) == set(data['DEST_CITY_MARKET_ID'])"
   ]
  },
  {
   "cell_type": "code",
   "execution_count": 11,
   "metadata": {
    "collapsed": false
   },
   "outputs": [
    {
     "name": "stdout",
     "output_type": "stream",
     "text": [
      "294\n",
      "273\n"
     ]
    }
   ],
   "source": [
    "# As the set of Destination and Origin airport and city are the same, printing the number of unique destination \n",
    "# airports and cities is enough.\n",
    "print len(set(data['DEST_AIRPORT_ID']))\n",
    "print len(set(data['DEST_CITY_MARKET_ID']))"
   ]
  },
  {
   "cell_type": "code",
   "execution_count": 12,
   "metadata": {
    "collapsed": false
   },
   "outputs": [
    {
     "data": {
      "text/plain": [
       "433298"
      ]
     },
     "execution_count": 12,
     "metadata": {},
     "output_type": "execute_result"
    }
   ],
   "source": [
    "len(data['DIVERTED'])"
   ]
  },
  {
   "cell_type": "code",
   "execution_count": 13,
   "metadata": {
    "collapsed": false
   },
   "outputs": [
    {
     "data": {
      "text/plain": [
       "433298"
      ]
     },
     "execution_count": 13,
     "metadata": {},
     "output_type": "execute_result"
    }
   ],
   "source": [
    "len(data['ARR_DEL15'])"
   ]
  },
  {
   "cell_type": "code",
   "execution_count": 14,
   "metadata": {
    "collapsed": false
   },
   "outputs": [
    {
     "data": {
      "text/plain": [
       "{'AA', 'AS', 'B6', 'DL', 'EV', 'F9', 'HA', 'NK', 'OO', 'UA', 'VX', 'WN'}"
      ]
     },
     "execution_count": 14,
     "metadata": {},
     "output_type": "execute_result"
    }
   ],
   "source": [
    "f = pd.read_csv('Jan-2017-Class.csv') # How does the identification number assigned by US DOT looks like?\n",
    "set(f['UNIQUE_CARRIER'])"
   ]
  },
  {
   "cell_type": "code",
   "execution_count": 15,
   "metadata": {
    "collapsed": false
   },
   "outputs": [],
   "source": [
    "# Converting the Airline Ids into integers, to be able to apply a scikit-learn binary classifier\n",
    "\n",
    "Airlines_ID = {\"AA\":0 ,\"AS\" :1,\"B6\":2,\"DL\":3,\"EV\":4,\"F9\":5,\"HA\":6,\"NK\":7,\"OO\":8,\"UA\":9,\"VX\":10,\"WN\":11}\n",
    "\n",
    "data['AIRLINE'] = data['UNIQUE_CARRIER'].replace(Airlines_ID)\n",
    "data['AIRLINE'] = data['AIRLINE'].convert_objects(convert_numeric=True)"
   ]
  },
  {
   "cell_type": "code",
   "execution_count": 16,
   "metadata": {
    "collapsed": false
   },
   "outputs": [
    {
     "data": {
      "text/plain": [
       "{0, 1, 2, 3, 4, 5, 6, 7, 8, 9, 10, 11}"
      ]
     },
     "execution_count": 16,
     "metadata": {},
     "output_type": "execute_result"
    }
   ],
   "source": [
    "set(data['AIRLINE'])"
   ]
  },
  {
   "cell_type": "markdown",
   "metadata": {},
   "source": [
    "### Building the training and test sets"
   ]
  },
  {
   "cell_type": "markdown",
   "metadata": {},
   "source": [
    "We use the dummy column ARR_DEL15 as our target, and the rest of the features as our parameters."
   ]
  },
  {
   "cell_type": "code",
   "execution_count": 17,
   "metadata": {
    "collapsed": true
   },
   "outputs": [],
   "source": [
    "features = ['DAY_OF_WEEK','FL_NUM','ORIGIN_AIRPORT_ID','ORIGIN_CITY_MARKET_ID',\n",
    "            'DEST_AIRPORT_ID','DEST_CITY_MARKET_ID','DIVERTED','AIR_TIME','DISTANCE','DEP_HOUR','ARR_HOUR','AIRLINE']\n",
    "X = data[features].values\n",
    "Y = data['ARR_DEL15'].values"
   ]
  },
  {
   "cell_type": "code",
   "execution_count": 18,
   "metadata": {
    "collapsed": false
   },
   "outputs": [
    {
     "name": "stdout",
     "output_type": "stream",
     "text": [
      "(433298L, 12L)\n",
      "(433298L,)\n"
     ]
    }
   ],
   "source": [
    "print X.shape\n",
    "print Y.shape"
   ]
  },
  {
   "cell_type": "code",
   "execution_count": 19,
   "metadata": {
    "collapsed": false
   },
   "outputs": [
    {
     "name": "stdout",
     "output_type": "stream",
     "text": [
      "There is 70882 of delayed flights and 362416 on on-time ones.\n"
     ]
    }
   ],
   "source": [
    "print \"There is %s of delayed flights and %s on on-time ones.\"%(len(Y[Y == 1]), len(Y[Y == 0]))"
   ]
  },
  {
   "cell_type": "code",
   "execution_count": 20,
   "metadata": {
    "collapsed": true
   },
   "outputs": [],
   "source": [
    "X_train = X[:400645]\n",
    "Y_train = Y[:400645]\n",
    "                      # Creating a training and testing set from the data of January 2016\n",
    "X_test = X[400645:]\n",
    "Y_test = Y[400645:]"
   ]
  },
  {
   "cell_type": "code",
   "execution_count": 21,
   "metadata": {
    "collapsed": false
   },
   "outputs": [
    {
     "name": "stdout",
     "output_type": "stream",
     "text": [
      "There is 65313 of delayed flights and 335332 on on-time ones, in the training set.\n",
      "There is 5569 of delayed flights and 27084 on on-time ones, in the test set.\n"
     ]
    }
   ],
   "source": [
    "print \"There is %s of delayed flights and %s on on-time ones, in the training set.\"%(len(Y_train[Y_train == 1]), len(Y_train[Y_train == 0]))\n",
    "print \"There is %s of delayed flights and %s on on-time ones, in the test set.\"%(len(Y_test[Y_test == 1]), len(Y_test[Y_test == 0]))"
   ]
  },
  {
   "cell_type": "markdown",
   "metadata": {},
   "source": [
    "### Building the Model : Random Forest Classifier"
   ]
  },
  {
   "cell_type": "markdown",
   "metadata": {},
   "source": [
    " I will use the open source Python library Scikit-learn to implement a Random Forest Classifier.\n",
    "##### Why Random Forest?\n",
    "1. Usually RF algorithm does not overfit;\n",
    "2. It provides excellent accuracy among current classification and regression algorithms;\n",
    "3. It can be applied efficiently to large-scale datasets;\n",
    "4. It handles high dimensional dataset;\n",
    "5. It determines the most important features of a dataset;\n",
    "6. It is easily interpretable.\n",
    "\n",
    "I am using a k-fold cross-validation to determine the best number of trees the random forest classifier should have."
   ]
  },
  {
   "cell_type": "code",
   "execution_count": 22,
   "metadata": {
    "collapsed": true
   },
   "outputs": [],
   "source": [
    "parameters = {'n_estimators':np.arange(100,130,5)}"
   ]
  },
  {
   "cell_type": "code",
   "execution_count": 23,
   "metadata": {
    "collapsed": false
   },
   "outputs": [
    {
     "data": {
      "text/plain": [
       "GridSearchCV(cv=None, error_score='raise',\n",
       "       estimator=RandomForestClassifier(bootstrap=True, class_weight=None, criterion='gini',\n",
       "            max_depth=None, max_features='auto', max_leaf_nodes=None,\n",
       "            min_samples_leaf=1, min_samples_split=2,\n",
       "            min_weight_fraction_leaf=0.0, n_estimators=10, n_jobs=1,\n",
       "            oob_score=False, random_state=None, verbose=0,\n",
       "            warm_start=False),\n",
       "       fit_params={}, iid=True, n_jobs=1,\n",
       "       param_grid={'n_estimators': array([100, 105, 110, 115, 120, 125])},\n",
       "       pre_dispatch='2*n_jobs', refit=True, scoring=None, verbose=0)"
      ]
     },
     "execution_count": 23,
     "metadata": {},
     "output_type": "execute_result"
    }
   ],
   "source": [
    "Model = RandomForestClassifier()                               # Create the Model\n",
    "cross_validation = grid_search.GridSearchCV(Model, parameters) # Define the Cross-Validation\n",
    "cross_validation.fit(X_train, Y_train)                         # Run the Cross-Validation"
   ]
  },
  {
   "cell_type": "code",
   "execution_count": 24,
   "metadata": {
    "collapsed": false
   },
   "outputs": [
    {
     "name": "stdout",
     "output_type": "stream",
     "text": [
      "{'n_estimators': 115}\n",
      "0.781706997467\n"
     ]
    }
   ],
   "source": [
    "print cross_validation.best_params_\n",
    "print cross_validation.best_score_"
   ]
  },
  {
   "cell_type": "code",
   "execution_count": 25,
   "metadata": {
    "collapsed": true
   },
   "outputs": [],
   "source": [
    "Model = cross_validation.best_estimator_"
   ]
  },
  {
   "cell_type": "code",
   "execution_count": null,
   "metadata": {
    "collapsed": false
   },
   "outputs": [],
   "source": [
    "# Save the model to disk (cleared the output for visibility)\n",
    "filename = 'model_binclass.sav'\n",
    "joblib.dump(model, filename)"
   ]
  },
  {
   "cell_type": "code",
   "execution_count": 24,
   "metadata": {
    "collapsed": false,
    "scrolled": true
   },
   "outputs": [
    {
     "data": {
      "text/plain": [
       "RandomForestClassifier(bootstrap=True, class_weight=None, criterion='gini',\n",
       "            max_depth=None, max_features='auto', max_leaf_nodes=None,\n",
       "            min_samples_leaf=1, min_samples_split=2,\n",
       "            min_weight_fraction_leaf=0.0, n_estimators=115, n_jobs=1,\n",
       "            oob_score=False, random_state=None, verbose=0,\n",
       "            warm_start=False)"
      ]
     },
     "execution_count": 24,
     "metadata": {},
     "output_type": "execute_result"
    }
   ],
   "source": [
    "# Load the model\n",
    "model = joblib.load('model_binclass.sav')\n",
    "model"
   ]
  },
  {
   "cell_type": "code",
   "execution_count": 25,
   "metadata": {
    "collapsed": false
   },
   "outputs": [
    {
     "data": {
      "text/plain": [
       "0.98434025134470671"
      ]
     },
     "execution_count": 25,
     "metadata": {},
     "output_type": "execute_result"
    }
   ],
   "source": [
    "model.score(X_train, Y_train)"
   ]
  },
  {
   "cell_type": "code",
   "execution_count": 26,
   "metadata": {
    "collapsed": false
   },
   "outputs": [
    {
     "data": {
      "text/plain": [
       "0.9826815642458101"
      ]
     },
     "execution_count": 26,
     "metadata": {},
     "output_type": "execute_result"
    }
   ],
   "source": [
    "model.score(X_train[10000:11790], Y_train[10000:11790])"
   ]
  },
  {
   "cell_type": "code",
   "execution_count": 27,
   "metadata": {
    "collapsed": false
   },
   "outputs": [
    {
     "data": {
      "text/plain": [
       "81"
      ]
     },
     "execution_count": 27,
     "metadata": {},
     "output_type": "execute_result"
    }
   ],
   "source": [
    "# Testing the model on the test set\n",
    "# The higher the score, the higher the accuracy\n",
    "\n",
    "predictions = model.predict(X_test)\n",
    "score = 0\n",
    "for i in range(len(Y_test)):\n",
    "    if Y_test[i] == predictions[i]:\n",
    "        score += 1\n",
    "100*score / len(Y_test)"
   ]
  },
  {
   "cell_type": "code",
   "execution_count": 29,
   "metadata": {
    "collapsed": false
   },
   "outputs": [
    {
     "data": {
      "text/plain": [
       "array([ 0.15316854,  0.13358598,  0.03559167,  0.03330273,  0.03340057,\n",
       "        0.03297339,  0.        ,  0.46093092,  0.05431568,  0.02001562,\n",
       "        0.01792382,  0.02479109])"
      ]
     },
     "execution_count": 29,
     "metadata": {},
     "output_type": "execute_result"
    }
   ],
   "source": [
    "model.feature_importances_"
   ]
  },
  {
   "cell_type": "markdown",
   "metadata": {},
   "source": [
    "##### Most important features are:\n",
    "1. Diverted\n",
    "2. Day of Week\n",
    "3. Flight number"
   ]
  },
  {
   "cell_type": "markdown",
   "metadata": {},
   "source": [
    "## January 2017"
   ]
  },
  {
   "cell_type": "markdown",
   "metadata": {},
   "source": [
    "Testing the model with the same month, but a year later."
   ]
  },
  {
   "cell_type": "code",
   "execution_count": 30,
   "metadata": {
    "collapsed": false
   },
   "outputs": [],
   "source": [
    "data_test2 = pd.read_csv('Jan-2017-Class.csv')"
   ]
  },
  {
   "cell_type": "code",
   "execution_count": 31,
   "metadata": {
    "collapsed": false
   },
   "outputs": [],
   "source": [
    "data_test2 = data_test2.drop('Unnamed: 13',axis = 1)\n",
    "for i in ['ARR_DEL15','AIR_TIME']:\n",
    "    data_test2 = data_test2.dropna(subset=[i])\n",
    "data_test2['DEP_HOUR'] = data_test2['CRS_DEP_TIME'].apply(hour_func)\n",
    "data_test2['ARR_HOUR'] = data_test2['CRS_ARR_TIME'].apply(hour_func)\n",
    "data_test2['AIRLINE'] = data_test2['UNIQUE_CARRIER'].replace(Airlines_ID)\n",
    "data_test2['AIRLINE'] = data_test2['AIRLINE'].convert_objects(convert_numeric=True)"
   ]
  },
  {
   "cell_type": "code",
   "execution_count": 32,
   "metadata": {
    "collapsed": true
   },
   "outputs": [],
   "source": [
    "X_test2 = data_test2[features].values\n",
    "Y_test2 = data_test2['ARR_DEL15'].values"
   ]
  },
  {
   "cell_type": "code",
   "execution_count": 33,
   "metadata": {
    "collapsed": false
   },
   "outputs": [
    {
     "data": {
      "text/plain": [
       "75"
      ]
     },
     "execution_count": 33,
     "metadata": {},
     "output_type": "execute_result"
    }
   ],
   "source": [
    "predictions2 = model.predict(X_test2)\n",
    "score2 = 0\n",
    "for i in range(len(Y_test2)):\n",
    "    if Y_test2[i] == predictions2[i]:\n",
    "        score2 += 1\n",
    "100 *score2 / len(Y_test2)"
   ]
  },
  {
   "cell_type": "markdown",
   "metadata": {},
   "source": [
    "## February 2016"
   ]
  },
  {
   "cell_type": "markdown",
   "metadata": {},
   "source": [
    "Testing the model with the month right after the training one."
   ]
  },
  {
   "cell_type": "code",
   "execution_count": 34,
   "metadata": {
    "collapsed": false
   },
   "outputs": [],
   "source": [
    "data_test3= pd.read_csv('Feb-2016-Class.csv')"
   ]
  },
  {
   "cell_type": "code",
   "execution_count": 35,
   "metadata": {
    "collapsed": false
   },
   "outputs": [],
   "source": [
    "data_test3 = data_test3.drop('Unnamed: 13',axis = 1)\n",
    "for i in ['ARR_DEL15','AIR_TIME']:\n",
    "    data_test3 = data_test3.dropna(subset=[i])\n",
    "data_test3['DEP_HOUR'] = data_test3['CRS_DEP_TIME'].apply(hour_func)\n",
    "data_test3['ARR_HOUR'] = data_test3['CRS_ARR_TIME'].apply(hour_func)\n",
    "data_test3['AIRLINE'] = data_test3['UNIQUE_CARRIER'].replace(Airlines_ID)\n",
    "data_test3['AIRLINE'] = data_test3['AIRLINE'].convert_objects(convert_numeric=True)"
   ]
  },
  {
   "cell_type": "code",
   "execution_count": 36,
   "metadata": {
    "collapsed": true
   },
   "outputs": [],
   "source": [
    "X_test3 = data_test3[features].values\n",
    "Y_test3 = data_test3['ARR_DEL15'].values"
   ]
  },
  {
   "cell_type": "code",
   "execution_count": 37,
   "metadata": {
    "collapsed": false
   },
   "outputs": [
    {
     "data": {
      "text/plain": [
       "80"
      ]
     },
     "execution_count": 37,
     "metadata": {},
     "output_type": "execute_result"
    }
   ],
   "source": [
    "predictions3 = model.predict(X_test3)\n",
    "score3 = 0\n",
    "for i in range(len(Y_test3)):\n",
    "    if Y_test3[i] == predictions3[i]:\n",
    "        score3 += 1\n",
    "100 *score3 / len(Y_test3)"
   ]
  },
  {
   "cell_type": "markdown",
   "metadata": {},
   "source": [
    "### October 2016"
   ]
  },
  {
   "cell_type": "markdown",
   "metadata": {},
   "source": [
    "Testing the model with a month in the same year as the training set."
   ]
  },
  {
   "cell_type": "code",
   "execution_count": 38,
   "metadata": {
    "collapsed": true
   },
   "outputs": [],
   "source": [
    "data_test4= pd.read_csv('Oct-2016-Class.csv')"
   ]
  },
  {
   "cell_type": "code",
   "execution_count": 39,
   "metadata": {
    "collapsed": false
   },
   "outputs": [
    {
     "data": {
      "text/plain": [
       "Index([u'DAY_OF_WEEK', u'UNIQUE_CARRIER', u'FL_NUM', u'ORIGIN_AIRPORT_ID',\n",
       "       u'ORIGIN_CITY_MARKET_ID', u'DEST_AIRPORT_ID', u'DEST_CITY_MARKET_ID',\n",
       "       u'CRS_DEP_TIME', u'CRS_ARR_TIME', u'ARR_DEL15', u'DIVERTED',\n",
       "       u'AIR_TIME', u'DISTANCE', u'Unnamed: 13'],\n",
       "      dtype='object')"
      ]
     },
     "execution_count": 39,
     "metadata": {},
     "output_type": "execute_result"
    }
   ],
   "source": [
    "data_test4.columns"
   ]
  },
  {
   "cell_type": "code",
   "execution_count": 40,
   "metadata": {
    "collapsed": false
   },
   "outputs": [],
   "source": [
    "data_test4 = data_test4.drop('Unnamed: 13',axis = 1)\n",
    "for i in ['ARR_DEL15','AIR_TIME']:\n",
    "    data_test4 = data_test4.dropna(subset=[i])\n",
    "data_test4['DEP_HOUR'] = data_test4['CRS_DEP_TIME'].apply(hour_func)\n",
    "data_test4['ARR_HOUR'] = data_test4['CRS_ARR_TIME'].apply(hour_func)\n",
    "data_test4['AIRLINE'] = data_test4['UNIQUE_CARRIER'].replace(Airlines_ID)\n",
    "data_test4['AIRLINE'] = data_test4['AIRLINE'].convert_objects(convert_numeric=True)"
   ]
  },
  {
   "cell_type": "code",
   "execution_count": 41,
   "metadata": {
    "collapsed": true
   },
   "outputs": [],
   "source": [
    "X_test4 = data_test4[features].values\n",
    "Y_test4 = data_test4['ARR_DEL15'].values"
   ]
  },
  {
   "cell_type": "code",
   "execution_count": 42,
   "metadata": {
    "collapsed": false
   },
   "outputs": [
    {
     "data": {
      "text/plain": [
       "80"
      ]
     },
     "execution_count": 42,
     "metadata": {},
     "output_type": "execute_result"
    }
   ],
   "source": [
    "predictions4 = model.predict(X_test4)\n",
    "score4 = 0\n",
    "for i in range(len(Y_test4)):\n",
    "    if Y_test4[i] == predictions4[i]:\n",
    "        score4 += 1\n",
    "100 *score4 / len(Y_test4)"
   ]
  },
  {
   "cell_type": "markdown",
   "metadata": {},
   "source": [
    "### Conclusion"
   ]
  },
  {
   "cell_type": "code",
   "execution_count": 43,
   "metadata": {
    "collapsed": false,
    "scrolled": true
   },
   "outputs": [
    {
     "data": {
      "text/plain": [
       "79"
      ]
     },
     "execution_count": 43,
     "metadata": {},
     "output_type": "execute_result"
    }
   ],
   "source": [
    "(81+75+80+80)/4"
   ]
  },
  {
   "cell_type": "markdown",
   "metadata": {},
   "source": [
    "#### The binary classifier has an average accuracy of 79%"
   ]
  }
 ],
 "metadata": {
  "kernelspec": {
   "display_name": "Python [Root]",
   "language": "python",
   "name": "Python [Root]"
  },
  "language_info": {
   "codemirror_mode": {
    "name": "ipython",
    "version": 2
   },
   "file_extension": ".py",
   "mimetype": "text/x-python",
   "name": "python",
   "nbconvert_exporter": "python",
   "pygments_lexer": "ipython2",
   "version": "2.7.12"
  }
 },
 "nbformat": 4,
 "nbformat_minor": 0
}
